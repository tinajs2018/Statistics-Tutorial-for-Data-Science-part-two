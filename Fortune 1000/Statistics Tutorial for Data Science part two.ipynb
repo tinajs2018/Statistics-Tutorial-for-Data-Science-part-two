{
 "cells": [
  {
   "cell_type": "code",
   "execution_count": 1,
   "metadata": {},
   "outputs": [],
   "source": [
    "import pandas as pd\n",
    "import numpy as np \n",
    "import  seaborn as sns\n",
    "import matplotlib.pyplot as plt"
   ]
  },
  {
   "cell_type": "code",
   "execution_count": 2,
   "metadata": {},
   "outputs": [
    {
     "data": {
      "text/html": [
       "<div>\n",
       "<style scoped>\n",
       "    .dataframe tbody tr th:only-of-type {\n",
       "        vertical-align: middle;\n",
       "    }\n",
       "\n",
       "    .dataframe tbody tr th {\n",
       "        vertical-align: top;\n",
       "    }\n",
       "\n",
       "    .dataframe thead th {\n",
       "        text-align: right;\n",
       "    }\n",
       "</style>\n",
       "<table border=\"1\" class=\"dataframe\">\n",
       "  <thead>\n",
       "    <tr style=\"text-align: right;\">\n",
       "      <th></th>\n",
       "      <th>company</th>\n",
       "      <th>rank</th>\n",
       "      <th>rank_change</th>\n",
       "      <th>revenue</th>\n",
       "      <th>profit</th>\n",
       "      <th>num. of employees</th>\n",
       "      <th>sector</th>\n",
       "      <th>city</th>\n",
       "      <th>state</th>\n",
       "      <th>newcomer</th>\n",
       "      <th>ceo_founder</th>\n",
       "      <th>ceo_woman</th>\n",
       "      <th>profitable</th>\n",
       "      <th>prev_rank</th>\n",
       "      <th>CEO</th>\n",
       "      <th>Website</th>\n",
       "      <th>Ticker</th>\n",
       "      <th>Market Cap</th>\n",
       "    </tr>\n",
       "  </thead>\n",
       "  <tbody>\n",
       "    <tr>\n",
       "      <th>0</th>\n",
       "      <td>Walmart</td>\n",
       "      <td>1</td>\n",
       "      <td>0.0</td>\n",
       "      <td>523964.0</td>\n",
       "      <td>14881.0</td>\n",
       "      <td>2200000</td>\n",
       "      <td>Retailing</td>\n",
       "      <td>Bentonville</td>\n",
       "      <td>AR</td>\n",
       "      <td>no</td>\n",
       "      <td>no</td>\n",
       "      <td>no</td>\n",
       "      <td>yes</td>\n",
       "      <td>1.0</td>\n",
       "      <td>C. Douglas McMillon</td>\n",
       "      <td>https://www.stock.walmart.com</td>\n",
       "      <td>WMT</td>\n",
       "      <td>411690</td>\n",
       "    </tr>\n",
       "    <tr>\n",
       "      <th>1</th>\n",
       "      <td>Amazon</td>\n",
       "      <td>2</td>\n",
       "      <td>3.0</td>\n",
       "      <td>280522.0</td>\n",
       "      <td>11588.0</td>\n",
       "      <td>798000</td>\n",
       "      <td>Retailing</td>\n",
       "      <td>Seattle</td>\n",
       "      <td>WA</td>\n",
       "      <td>no</td>\n",
       "      <td>yes</td>\n",
       "      <td>no</td>\n",
       "      <td>yes</td>\n",
       "      <td>5.0</td>\n",
       "      <td>Jeffrey P. Bezos</td>\n",
       "      <td>https://www.amazon.com</td>\n",
       "      <td>AMZN</td>\n",
       "      <td>1637405</td>\n",
       "    </tr>\n",
       "    <tr>\n",
       "      <th>2</th>\n",
       "      <td>Exxon Mobil</td>\n",
       "      <td>3</td>\n",
       "      <td>-1.0</td>\n",
       "      <td>264938.0</td>\n",
       "      <td>14340.0</td>\n",
       "      <td>74900</td>\n",
       "      <td>Energy</td>\n",
       "      <td>Irving</td>\n",
       "      <td>TX</td>\n",
       "      <td>no</td>\n",
       "      <td>no</td>\n",
       "      <td>no</td>\n",
       "      <td>yes</td>\n",
       "      <td>2.0</td>\n",
       "      <td>Darren W. Woods</td>\n",
       "      <td>https://www.exxonmobil.com</td>\n",
       "      <td>XOM</td>\n",
       "      <td>177923</td>\n",
       "    </tr>\n",
       "    <tr>\n",
       "      <th>3</th>\n",
       "      <td>Apple</td>\n",
       "      <td>4</td>\n",
       "      <td>-1.0</td>\n",
       "      <td>260174.0</td>\n",
       "      <td>55256.0</td>\n",
       "      <td>137000</td>\n",
       "      <td>Technology</td>\n",
       "      <td>Cupertino</td>\n",
       "      <td>CA</td>\n",
       "      <td>no</td>\n",
       "      <td>no</td>\n",
       "      <td>no</td>\n",
       "      <td>yes</td>\n",
       "      <td>3.0</td>\n",
       "      <td>Timothy D. Cook</td>\n",
       "      <td>https://www.apple.com</td>\n",
       "      <td>AAPL</td>\n",
       "      <td>2221176</td>\n",
       "    </tr>\n",
       "    <tr>\n",
       "      <th>4</th>\n",
       "      <td>CVS Health</td>\n",
       "      <td>5</td>\n",
       "      <td>3.0</td>\n",
       "      <td>256776.0</td>\n",
       "      <td>6634.0</td>\n",
       "      <td>290000</td>\n",
       "      <td>Health Care</td>\n",
       "      <td>Woonsocket</td>\n",
       "      <td>RI</td>\n",
       "      <td>no</td>\n",
       "      <td>no</td>\n",
       "      <td>yes</td>\n",
       "      <td>yes</td>\n",
       "      <td>8.0</td>\n",
       "      <td>Karen S. Lynch</td>\n",
       "      <td>https://www.cvshealth.com</td>\n",
       "      <td>CVS</td>\n",
       "      <td>98496</td>\n",
       "    </tr>\n",
       "    <tr>\n",
       "      <th>5</th>\n",
       "      <td>Berkshire Hathaway</td>\n",
       "      <td>6</td>\n",
       "      <td>-2.0</td>\n",
       "      <td>254616.0</td>\n",
       "      <td>81417.0</td>\n",
       "      <td>391500</td>\n",
       "      <td>Financials</td>\n",
       "      <td>Omaha</td>\n",
       "      <td>NE</td>\n",
       "      <td>no</td>\n",
       "      <td>no</td>\n",
       "      <td>no</td>\n",
       "      <td>yes</td>\n",
       "      <td>4.0</td>\n",
       "      <td>Warren E. Buffett</td>\n",
       "      <td>https://www.berkshirehathaway.com</td>\n",
       "      <td>BRKA</td>\n",
       "      <td>550878</td>\n",
       "    </tr>\n",
       "  </tbody>\n",
       "</table>\n",
       "</div>"
      ],
      "text/plain": [
       "              company  rank  rank_change   revenue   profit  \\\n",
       "0             Walmart     1          0.0  523964.0  14881.0   \n",
       "1              Amazon     2          3.0  280522.0  11588.0   \n",
       "2         Exxon Mobil     3         -1.0  264938.0  14340.0   \n",
       "3               Apple     4         -1.0  260174.0  55256.0   \n",
       "4          CVS Health     5          3.0  256776.0   6634.0   \n",
       "5  Berkshire Hathaway     6         -2.0  254616.0  81417.0   \n",
       "\n",
       "   num. of employees       sector         city state newcomer ceo_founder  \\\n",
       "0            2200000    Retailing  Bentonville    AR       no          no   \n",
       "1             798000    Retailing      Seattle    WA       no         yes   \n",
       "2              74900       Energy       Irving    TX       no          no   \n",
       "3             137000   Technology    Cupertino    CA       no          no   \n",
       "4             290000  Health Care   Woonsocket    RI       no          no   \n",
       "5             391500   Financials        Omaha    NE       no          no   \n",
       "\n",
       "  ceo_woman profitable prev_rank                  CEO  \\\n",
       "0        no        yes       1.0  C. Douglas McMillon   \n",
       "1        no        yes       5.0     Jeffrey P. Bezos   \n",
       "2        no        yes       2.0      Darren W. Woods   \n",
       "3        no        yes       3.0      Timothy D. Cook   \n",
       "4       yes        yes       8.0       Karen S. Lynch   \n",
       "5        no        yes       4.0    Warren E. Buffett   \n",
       "\n",
       "                             Website Ticker Market Cap  \n",
       "0      https://www.stock.walmart.com    WMT     411690  \n",
       "1             https://www.amazon.com   AMZN    1637405  \n",
       "2         https://www.exxonmobil.com    XOM     177923  \n",
       "3              https://www.apple.com   AAPL    2221176  \n",
       "4          https://www.cvshealth.com    CVS      98496  \n",
       "5  https://www.berkshirehathaway.com   BRKA     550878  "
      ]
     },
     "execution_count": 2,
     "metadata": {},
     "output_type": "execute_result"
    }
   ],
   "source": [
    "data=pd.read_csv(\"Fortune_1000.csv\")\n",
    "data.head(6)"
   ]
  },
  {
   "cell_type": "code",
   "execution_count": 3,
   "metadata": {},
   "outputs": [
    {
     "data": {
      "text/html": [
       "<div>\n",
       "<style scoped>\n",
       "    .dataframe tbody tr th:only-of-type {\n",
       "        vertical-align: middle;\n",
       "    }\n",
       "\n",
       "    .dataframe tbody tr th {\n",
       "        vertical-align: top;\n",
       "    }\n",
       "\n",
       "    .dataframe thead th {\n",
       "        text-align: right;\n",
       "    }\n",
       "</style>\n",
       "<table border=\"1\" class=\"dataframe\">\n",
       "  <thead>\n",
       "    <tr style=\"text-align: right;\">\n",
       "      <th></th>\n",
       "      <th>rank</th>\n",
       "      <th>rank_change</th>\n",
       "      <th>revenue</th>\n",
       "      <th>profit</th>\n",
       "      <th>num. of employees</th>\n",
       "    </tr>\n",
       "  </thead>\n",
       "  <tbody>\n",
       "    <tr>\n",
       "      <th>count</th>\n",
       "      <td>1000.000000</td>\n",
       "      <td>1000.000000</td>\n",
       "      <td>1000.000000</td>\n",
       "      <td>998.000000</td>\n",
       "      <td>1.000000e+03</td>\n",
       "    </tr>\n",
       "    <tr>\n",
       "      <th>mean</th>\n",
       "      <td>500.497000</td>\n",
       "      <td>0.426000</td>\n",
       "      <td>15902.339000</td>\n",
       "      <td>1344.702806</td>\n",
       "      <td>3.461598e+04</td>\n",
       "    </tr>\n",
       "    <tr>\n",
       "      <th>std</th>\n",
       "      <td>288.820278</td>\n",
       "      <td>22.424169</td>\n",
       "      <td>34762.973179</td>\n",
       "      <td>4515.839383</td>\n",
       "      <td>9.202401e+04</td>\n",
       "    </tr>\n",
       "    <tr>\n",
       "      <th>min</th>\n",
       "      <td>1.000000</td>\n",
       "      <td>-186.000000</td>\n",
       "      <td>1990.300000</td>\n",
       "      <td>-8506.000000</td>\n",
       "      <td>5.100000e+01</td>\n",
       "    </tr>\n",
       "    <tr>\n",
       "      <th>25%</th>\n",
       "      <td>250.750000</td>\n",
       "      <td>0.000000</td>\n",
       "      <td>3164.200000</td>\n",
       "      <td>110.650000</td>\n",
       "      <td>6.400000e+03</td>\n",
       "    </tr>\n",
       "    <tr>\n",
       "      <th>50%</th>\n",
       "      <td>500.500000</td>\n",
       "      <td>0.000000</td>\n",
       "      <td>5647.000000</td>\n",
       "      <td>380.700000</td>\n",
       "      <td>1.300000e+04</td>\n",
       "    </tr>\n",
       "    <tr>\n",
       "      <th>75%</th>\n",
       "      <td>750.250000</td>\n",
       "      <td>0.000000</td>\n",
       "      <td>12819.775000</td>\n",
       "      <td>1061.075000</td>\n",
       "      <td>2.919200e+04</td>\n",
       "    </tr>\n",
       "    <tr>\n",
       "      <th>max</th>\n",
       "      <td>1000.000000</td>\n",
       "      <td>224.000000</td>\n",
       "      <td>523964.000000</td>\n",
       "      <td>81417.000000</td>\n",
       "      <td>2.200000e+06</td>\n",
       "    </tr>\n",
       "  </tbody>\n",
       "</table>\n",
       "</div>"
      ],
      "text/plain": [
       "              rank  rank_change        revenue        profit  \\\n",
       "count  1000.000000  1000.000000    1000.000000    998.000000   \n",
       "mean    500.497000     0.426000   15902.339000   1344.702806   \n",
       "std     288.820278    22.424169   34762.973179   4515.839383   \n",
       "min       1.000000  -186.000000    1990.300000  -8506.000000   \n",
       "25%     250.750000     0.000000    3164.200000    110.650000   \n",
       "50%     500.500000     0.000000    5647.000000    380.700000   \n",
       "75%     750.250000     0.000000   12819.775000   1061.075000   \n",
       "max    1000.000000   224.000000  523964.000000  81417.000000   \n",
       "\n",
       "       num. of employees  \n",
       "count       1.000000e+03  \n",
       "mean        3.461598e+04  \n",
       "std         9.202401e+04  \n",
       "min         5.100000e+01  \n",
       "25%         6.400000e+03  \n",
       "50%         1.300000e+04  \n",
       "75%         2.919200e+04  \n",
       "max         2.200000e+06  "
      ]
     },
     "execution_count": 3,
     "metadata": {},
     "output_type": "execute_result"
    }
   ],
   "source": [
    "data.describe()"
   ]
  },
  {
   "cell_type": "code",
   "execution_count": 9,
   "metadata": {},
   "outputs": [
    {
     "name": "stdout",
     "output_type": "stream",
     "text": [
      "The first four calculated moments of a normal distribution\n"
     ]
    }
   ],
   "source": [
    "print('The first four calculated moments of a normal distribution')"
   ]
  },
  {
   "cell_type": "code",
   "execution_count": 7,
   "metadata": {},
   "outputs": [
    {
     "name": "stdout",
     "output_type": "stream",
     "text": [
      "Mean:  15902.33899999999\n"
     ]
    }
   ],
   "source": [
    "# Mean\n",
    "mean = data['revenue'].mean()\n",
    "print('Mean: ', mean)"
   ]
  },
  {
   "cell_type": "code",
   "execution_count": 6,
   "metadata": {},
   "outputs": [
    {
     "name": "stdout",
     "output_type": "stream",
     "text": [
      "Variance:  1207255839.9111362\n"
     ]
    }
   ],
   "source": [
    "# Variance\n",
    "var = np.var(data['revenue'])\n",
    "print('Variance: ', var)"
   ]
  },
  {
   "cell_type": "code",
   "execution_count": 4,
   "metadata": {},
   "outputs": [
    {
     "name": "stdout",
     "output_type": "stream",
     "text": [
      "Skewness:  6.542310257837816\n"
     ]
    }
   ],
   "source": [
    "# Return unbiased skew normalized by N-1\n",
    "skew = data['revenue'].skew()\n",
    "print('Skewness: ', skew)"
   ]
  },
  {
   "cell_type": "code",
   "execution_count": 5,
   "metadata": {},
   "outputs": [
    {
     "name": "stdout",
     "output_type": "stream",
     "text": [
      "Kurtosis:  62.92170832862195\n"
     ]
    }
   ],
   "source": [
    "# Return unbiased kurtosis over requested axis using Fisher's definition of kurtosis \n",
    "# (kurtosis of normal == 0.0) normalized by N-1\n",
    "kurt = data['revenue'].kurtosis()\n",
    "print('Kurtosis: ', kurt)"
   ]
  },
  {
   "cell_type": "code",
   "execution_count": 11,
   "metadata": {},
   "outputs": [
    {
     "name": "stdout",
     "output_type": "stream",
     "text": [
      "Covariance between revenue and rank: \n"
     ]
    },
    {
     "data": {
      "text/html": [
       "<div>\n",
       "<style scoped>\n",
       "    .dataframe tbody tr th:only-of-type {\n",
       "        vertical-align: middle;\n",
       "    }\n",
       "\n",
       "    .dataframe tbody tr th {\n",
       "        vertical-align: top;\n",
       "    }\n",
       "\n",
       "    .dataframe thead th {\n",
       "        text-align: right;\n",
       "    }\n",
       "</style>\n",
       "<table border=\"1\" class=\"dataframe\">\n",
       "  <thead>\n",
       "    <tr style=\"text-align: right;\">\n",
       "      <th></th>\n",
       "      <th>revenue</th>\n",
       "      <th>rank</th>\n",
       "    </tr>\n",
       "  </thead>\n",
       "  <tbody>\n",
       "    <tr>\n",
       "      <th>revenue</th>\n",
       "      <td>1.208464e+09</td>\n",
       "      <td>-5.215519e+06</td>\n",
       "    </tr>\n",
       "    <tr>\n",
       "      <th>rank</th>\n",
       "      <td>-5.215519e+06</td>\n",
       "      <td>8.341715e+04</td>\n",
       "    </tr>\n",
       "  </tbody>\n",
       "</table>\n",
       "</div>"
      ],
      "text/plain": [
       "              revenue          rank\n",
       "revenue  1.208464e+09 -5.215519e+06\n",
       "rank    -5.215519e+06  8.341715e+04"
      ]
     },
     "execution_count": 11,
     "metadata": {},
     "output_type": "execute_result"
    }
   ],
   "source": [
    "# Covariance between Age and Income\n",
    "print('Covariance between revenue and rank: ')\n",
    "\n",
    "data[['revenue', 'rank']].cov()"
   ]
  },
  {
   "cell_type": "code",
   "execution_count": 13,
   "metadata": {},
   "outputs": [
    {
     "name": "stdout",
     "output_type": "stream",
     "text": [
      "---Representative samples:---\n",
      "\n",
      "Random samples:\n",
      "\n",
      "964     2087.8\n",
      "268    11847.0\n",
      "234    13739.0\n",
      "492     5774.5\n",
      "677     3623.1\n",
      "Name: revenue, dtype: float64\n",
      "\n"
     ]
    }
   ],
   "source": [
    "print('---Representative samples:---\\n')\n",
    "# Simple (pseudo)random sample\n",
    "rand_samples = data['revenue'].sample(5)\n",
    "print('Random samples:\\n\\n{}\\n'.format(rand_samples))"
   ]
  },
  {
   "cell_type": "code",
   "execution_count": 17,
   "metadata": {},
   "outputs": [
    {
     "name": "stdout",
     "output_type": "stream",
     "text": [
      "Cluster samples:\n",
      "\n",
      "[19518.6, 3680.8, 4303.0, 6343.2, 13081.7]\n"
     ]
    }
   ],
   "source": [
    "# Cluster Sampling\n",
    "# Make random clusters of ten people (Here with replacement)\n",
    "p1 = data['revenue'].sample(5)\n",
    "p2 = data['revenue'].sample(5)\n",
    "p3 = data['revenue'].sample(5)\n",
    "p4 =data['revenue'].sample(5)\n",
    "p5 = data['revenue'].sample(5)\n",
    "\n",
    "# Take sample from every cluster (with replacement)\n",
    "clusters = [p1,p2,p3,p4,p5]\n",
    "cluster_samples = []\n",
    "for c in clusters:\n",
    "    clus_samp = c.sample(1)\n",
    "    cluster_samples.extend(clus_samp)\n",
    "print('Cluster samples:\\n\\n{}'.format(cluster_samples))  "
   ]
  },
  {
   "cell_type": "code",
   "execution_count": 23,
   "metadata": {},
   "outputs": [
    {
     "name": "stdout",
     "output_type": "stream",
     "text": [
      "Stratified samples:\n",
      "\n",
      "[523964.0, 280522.0, 264938.0, 260174.0, 256776.0, 254616.0, 242155.0, 214319.0, 181193.0, 179589.1, 161857.0, 155900.0, 153566.0, 152703.0, 146516.0, 145534.0, 142422.0, 137237.0, 136866.0, 131868.0, 125843.0, 124813.0, 122286.0, 120304.0, 113589.0, 110225.0, 109559.0, 108942.0, 104213.0, 103915.0, 103449.0, 102729.0, 95214.0, 92154.0, 82059.0, 79395.3, 78112.0, 77147.0, 77046.0, 76559.0, 75125.0, 74639.0, 74094.0, 72148.0, 71965.0, 70697.0, 69693.0, 69620.0, 69570.0, 67684.0, 67161.0, 64888.0, 64807.0, 64656.0, 60534.5, 60113.9, 59812.0, 58756.0, 54213.0, 53922.0, 53823.0, 53800.0, 51904.0, 51750.0, 51336.0, 49746.0, 47020.0, 47007.0, 46840.0, 45768.0, 45764.0, 44675.0, 44116.6, 43982.0, 43638.0, 43259.0, 43228.0, 42951.0, 42405.0, 41717.0, 40454.4, 39506.0, 39350.0, 39258.0, 39117.0, 39022.3, 38462.8, 37266.0, 37253.4, 36998.4, 36819.0, 36709.0, 36670.0, 35617.4, 34438.0, 33841.0, 33766.0, 33669.0, 33266.0, 32897.0, 32789.2, 32293.6, 32136.0, 31904.0, 31900.5, 31581.0, 29805.0, 29176.0, 29135.0, 28916.8, 27812.0, 27754.0, 27325.0, 26508.6, 26145.0, 25939.0, 25868.0, 25599.7, 25542.0, 25331.0, 25282.3, 24977.0, 24658.0, 24578.0, 24508.2, 24273.0, 24087.8, 23894.1, 23838.0, 23757.3, 23610.8, 23571.0, 23481.1, 23406.0, 23362.0, 23179.4, 22977.0, 22597.0, 22588.9, 22449.0, 22428.0, 22408.0, 22401.0, 22376.0, 22319.5, 22307.0, 22259.6, 21971.0, 21708.0, 21674.4, 21624.0, 21512.0, 21419.0, 21335.7, 21184.0, 21076.5, 20972.0, 20863.5, 20822.0, 20740.0, 20521.2, 20419.0, 20173.3, 20156.4, 19974.0, 19810.3, 19796.0, 19743.5, 19518.6, 19461.0, 19392.3, 19204.0, 19146.0, 18479.0, 18450.0, 18372.0, 18289.0, 18032.4, 17983.2, 17900.8, 17817.2, 17772.0, 17592.9, 17486.6, 17450.0, 17380.0, 17290.0, 17258.0, 17129.0, 17098.0, 16883.0, 16865.2, 16829.0, 16783.0, 16652.0, 16648.0, 16572.0, 16569.0, 16383.0, 16227.3, 16222.1, 16039.1, 15693.0, 15561.4, 15524.0, 15463.6, 15455.0, 15309.5, 15146.0, 15066.0, 14953.7, 14931.0, 14906.3, 14884.0, 14863.0, 14745.0, 14664.0, 14608.0, 14539.0, 14442.2, 14402.0, 14383.0, 14377.9, 14320.3, 14300.0, 14192.0, 14175.2, 14147.0, 14109.0, 14101.5, 13989.0, 13887.7, 13870.6, 13846.0, 13739.0, 13630.0, 13578.0, 13476.7, 13458.0, 13329.2, 13210.0, 13209.0, 13190.7, 13131.0, 13103.0, 13081.7, 12937.0, 12914.2, 12899.7, 12856.0, 12807.7, 12672.7, 12669.0, 12633.2, 12592.5, 12574.0, 12506.1, 12443.0, 12347.0, 12301.0, 12112.2, 12101.3, 12067.0, 12043.8, 12028.8, 11998.9, 11937.0, 11863.7, 11847.0, 11809.0, 11785.0, 11665.0, 11618.0, 11554.8, 11548.0, 11529.0, 11503.0, 11486.0, 11474.0, 11389.0, 11378.3, 11362.0, 11296.0, 11251.0, 11171.3, 11167.0, 11144.0, 11120.0, 11094.0, 11088.0, 10973.8, 10918.0, 10878.7, 10850.0, 10800.0, 10735.0, 10647.0, 10579.4, 10465.0, 10455.7, 10454.3, 10433.0, 10333.0, 10305.3, 10299.4, 10292.0, 10283.0, 10221.3, 10213.0, 10189.0, 10187.0, 10168.0, 10164.4, 10150.0, 10086.8, 10083.1, 10076.0, 10074.0, 10072.0, 10007.4, 9970.7, 9909.0, 9909.0, 9871.0, 9790.0, 9779.0, 9760.9, 9740.0, 9730.0, 9709.0, 9653.6, 9650.0, 9591.0, 9538.4, 9526.2, 9526.0, 9497.3, 9452.0, 9443.8, 9351.0, 9304.0, 9298.2, 9273.0, 9174.6, 9172.0, 9165.3, 9145.0, 9127.1, 9120.3, 9041.4, 9040.7, 8992.0, 8942.0, 8925.8, 8918.9, 8906.3, 8899.0, 8878.0, 8845.6, 8781.0, 8776.0, 8750.7, 8742.0, 8681.0, 8671.1, 8648.5, 8620.0, 8611.7, 8547.6, 8536.1, 8526.5, 8510.4, 8489.0, 8479.0, 8469.0, 8443.3, 8382.0, 8364.9, 8358.9, 8351.9, 8345.1, 8342.0, 8237.0, 8235.0, 8233.9, 8225.4, 8201.0, 8200.0, 8175.4, 8170.2, 8118.0, 8116.0, 8107.0, 8094.0, 8066.0, 8023.0, 8005.0, 7986.3, 7982.2, 7924.2, 7920.5, 7902.2, 7887.0, 7864.8, 7863.4, 7863.1, 7838.0, 7769.0, 7731.2, 7726.0, 7694.0, 7659.4, 7625.0, 7580.3, 7523.9, 7523.1, 7428.4, 7398.1, 7372.0, 7338.3, 7328.7, 7326.1, 7320.4, 7286.4, 7280.4, 7224.0, 7213.7, 7210.3, 7195.0, 7183.2, 7160.0, 7159.4, 7136.4, 7105.2, 7070.1, 6966.9, 6964.3, 6941.3, 6915.0, 6895.1, 6892.3, 6863.4, 6845.0, 6840.0, 6784.0, 6755.0, 6743.1, 6731.0, 6726.0, 6704.0, 6699.0, 6694.8, 6691.0, 6611.1, 6600.6, 6580.9, 6554.0, 6554.0, 6547.0, 6530.9, 6510.0, 6498.6, 6489.0, 6466.0, 6411.0, 6379.0, 6359.4, 6343.2, 6313.0, 6297.0, 6276.2, 6260.0, 6242.8, 6214.0, 6209.0, 6202.1, 6160.1, 6146.0, 6146.0, 6117.4, 6110.0, 6074.4, 6052.9, 6040.3, 6027.1, 6016.0, 5991.1, 5910.0, 5898.0, 5870.0, 5829.0, 5809.8, 5774.5, 5764.6, 5763.1, 5763.0, 5755.2, 5692.6, 5681.1, 5655.0, 5639.0, 5634.8, 5624.9, 5617.9, 5597.0, 5586.4, 5574.5, 5564.6, 5562.1, 5529.0, 5526.0, 5517.9, 5517.2, 5469.0, 5453.9, 5401.5, 5374.2, 5366.8, 5361.8, 5358.7, 5355.6, 5349.5, 5347.4, 5336.9, 5333.7, 5323.2, 5301.4, 5292.1, 5267.1, 5249.0, 5242.5, 5220.0, 5208.9, 5190.0, 5179.6, 5176.0, 5163.0, 5158.6, 5147.8, 5140.1, 5125.7, 5121.3, 5115.4, 5072.0, 5039.2, 5020.0, 4991.1, 4988.0, 4986.3, 4950.0, 4929.1, 4926.9, 4911.9, 4897.4, 4892.0, 4889.7, 4871.2, 4868.0, 4846.7, 4844.0, 4829.0, 4826.5, 4811.6, 4791.1, 4783.2, 4770.4, 4762.1, 4757.1, 4752.5, 4749.0, 4747.0, 4739.1, 4731.0, 4720.2, 4713.5, 4680.3, 4675.8, 4661.9, 4643.4, 4632.9, 4631.9, 4623.4, 4605.0, 4595.0, 4592.0, 4591.0, 4590.0, 4568.9, 4565.8, 4556.7, 4552.7, 4527.5, 4504.6, 4501.6, 4489.9, 4485.0, 4478.5, 4475.0, 4467.0, 4450.8, 4445.4, 4438.0, 4431.2, 4424.0, 4416.5, 4416.0, 4408.7, 4408.7, 4388.0, 4362.2, 4357.7, 4355.0, 4348.0, 4326.3, 4314.8, 4308.2, 4303.0, 4289.8, 4262.6, 4262.0, 4245.3, 4240.0, 4202.0, 4200.8, 4194.0, 4162.8, 4156.7, 4139.4, 4138.8, 4137.2, 4124.0, 4122.7, 4122.5, 4109.1, 4089.6, 4070.1, 4067.7, 4057.1, 4052.7, 4043.0, 4031.0, 4029.2, 4015.8, 3983.8, 3975.0, 3972.5, 3964.0, 3954.8, 3947.7, 3944.9, 3939.9, 3923.9, 3876.4, 3873.1, 3872.8, 3868.1, 3856.0, 3830.5, 3817.0, 3807.2, 3789.9, 3772.5, 3768.7, 3759.6, 3756.5, 3752.1, 3705.1, 3683.5, 3683.2, 3680.8, 3672.7, 3668.1, 3666.9, 3662.0, 3647.7, 3627.2, 3626.6, 3623.1, 3618.8, 3616.0, 3611.9, 3610.0, 3589.4, 3572.1, 3552.7, 3543.3, 3543.0, 3530.9, 3519.3, 3515.0, 3513.5, 3507.6, 3505.5, 3505.0, 3502.7, 3502.4, 3500.4, 3492.7, 3477.7, 3472.7, 3471.2, 3464.3, 3460.4, 3459.3, 3452.6, 3443.2, 3440.3, 3421.4, 3412.2, 3401.1, 3400.0, 3389.8, 3377.0, 3376.8, 3375.9, 3375.6, 3374.0, 3367.3, 3364.9, 3363.9, 3363.8, 3362.1, 3360.7, 3351.6, 3339.7, 3337.0, 3330.6, 3326.1, 3326.0, 3324.0, 3308.9, 3296.1, 3293.3, 3291.8, 3283.1, 3283.1, 3274.3, 3264.3, 3248.0, 3245.0, 3238.0, 3230.8, 3225.1, 3223.9, 3217.9, 3209.2, 3199.5, 3181.9, 3171.2, 3164.4, 3163.6, 3160.5, 3156.0, 3145.4, 3145.0, 3138.1, 3119.9, 3116.0, 3108.4, 3107.5, 3107.3, 3106.3, 3106.0, 3094.9, 3090.3, 3083.0, 3072.0, 3071.0, 3066.3, 3063.1, 3060.3, 3059.0, 3055.4, 3042.5, 3039.3, 3038.0, 3033.6, 3026.1, 3010.6, 3008.7, 3005.1, 3004.7, 3003.3, 2998.7, 2992.7, 2988.3, 2988.1, 2972.0, 2960.6, 2960.0, 2959.4, 2951.0, 2948.7, 2945.0, 2932.1, 2923.0, 2921.6, 2920.0, 2907.3, 2904.7, 2903.3, 2901.8, 2900.2, 2899.6, 2897.0, 2893.6, 2887.0, 2886.8, 2883.7, 2874.6, 2866.0, 2859.7, 2846.8, 2846.5, 2846.4, 2844.9, 2844.0, 2838.4, 2832.2, 2830.7, 2827.6, 2820.0, 2808.5, 2808.0, 2798.5, 2772.1, 2767.0, 2763.9, 2756.2, 2752.6, 2750.1, 2742.8, 2739.2, 2729.6, 2727.9, 2710.6, 2703.8, 2701.1, 2698.0, 2689.6, 2689.3, 2683.8, 2678.1, 2669.9, 2668.4, 2668.3, 2656.1, 2653.4, 2648.8, 2647.4, 2643.2, 2637.3, 2634.0, 2624.1, 2621.2, 2615.3, 2607.1, 2606.6, 2595.4, 2592.0, 2585.6, 2580.0, 2578.0, 2567.2, 2559.6, 2540.1, 2535.9, 2528.2, 2518.0, 2502.5, 2500.3, 2496.1, 2494.6, 2491.8, 2488.0, 2482.7, 2480.8, 2477.9, 2470.7, 2463.7, 2451.9, 2444.0, 2430.6, 2420.4, 2419.6, 2410.7, 2406.9, 2406.8, 2406.6, 2406.5, 2404.6, 2403.7, 2392.2, 2390.0, 2387.8, 2383.0, 2380.2, 2380.0, 2375.2, 2371.5, 2368.8, 2363.0, 2358.9, 2357.5, 2355.7, 2352.7, 2348.8, 2340.5, 2337.1, 2336.3, 2332.9, 2324.6, 2319.1, 2316.1, 2314.3, 2312.2, 2311.7, 2310.4, 2310.0, 2299.5, 2295.0, 2294.4, 2293.8, 2292.0, 2290.5, 2285.6, 2278.4, 2273.7, 2271.6, 2268.1, 2246.9, 2242.4, 2239.6, 2231.6, 2227.2, 2226.3, 2222.6, 2222.1, 2222.1, 2218.9, 2218.1, 2217.7, 2212.7, 2209.3, 2205.3, 2204.3, 2203.1, 2197.1, 2194.2, 2190.3, 2185.0, 2175.2, 2158.8, 2156.2, 2154.5, 2147.6, 2146.5, 2141.0, 2134.5, 2132.8, 2123.0, 2122.0, 2104.2, 2098.3, 2087.8, 2080.2, 2077.0, 2072.6, 2071.7, 2071.4, 2071.2, 2068.3, 2068.2, 2066.3, 2062.0, 2058.5, 2055.6, 2053.0, 2052.8, 2052.5, 2052.3, 2048.1, 2045.5, 2042.0, 2037.9, 2034.6, 2033.0, 2028.8, 2020.4, 2019.2, 2016.9, 2016.9, 2015.5, 2014.6, 2008.7, 2007.0, 1999.0, 1997.4, 1996.3, 1990.3]\n",
      "\n"
     ]
    }
   ],
   "source": [
    "# Stratified Sampling\n",
    "# We will get 1 revenue from every city in the dataset\n",
    "# We have 8 companies so that makes a total of 8 samples\n",
    "\n",
    "\n",
    "strat_samples = []\n",
    "\n",
    "for company in data['company'].unique():\n",
    "    samp = data[data['company'] == company].sample(1)\n",
    "    strat_samples.append(samp['revenue'].item())\n",
    "    \n",
    "print('Stratified samples:\\n\\n{}\\n'.format(strat_samples))"
   ]
  },
  {
   "cell_type": "code",
   "execution_count": 24,
   "metadata": {},
   "outputs": [
    {
     "name": "stdout",
     "output_type": "stream",
     "text": [
      "Systematic samples:\n",
      "\n",
      "   company  rank  rank_change   revenue   profit  num. of employees  \\\n",
      "0  Walmart     1          0.0  523964.0  14881.0            2200000   \n",
      "\n",
      "      sector         city state newcomer ceo_founder ceo_woman profitable  \\\n",
      "0  Retailing  Bentonville    AR       no          no        no        yes   \n",
      "\n",
      "  prev_rank                  CEO                        Website Ticker  \\\n",
      "0       1.0  C. Douglas McMillon  https://www.stock.walmart.com    WMT   \n",
      "\n",
      "  Market Cap  \n",
      "0     411690  \n",
      "\n"
     ]
    }
   ],
   "source": [
    "# Systematic sample (Every 2000th value)\n",
    "sys_samples = data[data.index % 2000 == 0]\n",
    "print('Systematic samples:\\n\\n{}\\n'.format(sys_samples))"
   ]
  },
  {
   "cell_type": "code",
   "execution_count": 30,
   "metadata": {},
   "outputs": [
    {
     "name": "stdout",
     "output_type": "stream",
     "text": [
      "Purposive samples:\n",
      "\n",
      "0    523964.0\n",
      "1    280522.0\n",
      "2    264938.0\n",
      "3    260174.0\n",
      "4    256776.0\n",
      "Name: revenue, dtype: float64\n",
      "\n"
     ]
    }
   ],
   "source": [
    "# Purposive samples (Pick samples for a specific purpose)\n",
    "\n",
    "purp_samples = data['revenue'].nlargest(n=5)\n",
    "print('Purposive samples:\\n\\n{}\\n'.format(purp_samples))"
   ]
  },
  {
   "cell_type": "code",
   "execution_count": 25,
   "metadata": {},
   "outputs": [
    {
     "name": "stdout",
     "output_type": "stream",
     "text": [
      "---Non-Representative samples:---\n",
      "\n",
      "Convenience samples:\n",
      "\n",
      "       company  rank  rank_change   revenue   profit  num. of employees  \\\n",
      "0      Walmart     1          0.0  523964.0  14881.0            2200000   \n",
      "1       Amazon     2          3.0  280522.0  11588.0             798000   \n",
      "2  Exxon Mobil     3         -1.0  264938.0  14340.0              74900   \n",
      "3        Apple     4         -1.0  260174.0  55256.0             137000   \n",
      "4   CVS Health     5          3.0  256776.0   6634.0             290000   \n",
      "\n",
      "        sector         city state newcomer ceo_founder ceo_woman profitable  \\\n",
      "0    Retailing  Bentonville    AR       no          no        no        yes   \n",
      "1    Retailing      Seattle    WA       no         yes        no        yes   \n",
      "2       Energy       Irving    TX       no          no        no        yes   \n",
      "3   Technology    Cupertino    CA       no          no        no        yes   \n",
      "4  Health Care   Woonsocket    RI       no          no       yes        yes   \n",
      "\n",
      "  prev_rank                  CEO                        Website Ticker  \\\n",
      "0       1.0  C. Douglas McMillon  https://www.stock.walmart.com    WMT   \n",
      "1       5.0     Jeffrey P. Bezos         https://www.amazon.com   AMZN   \n",
      "2       2.0      Darren W. Woods     https://www.exxonmobil.com    XOM   \n",
      "3       3.0      Timothy D. Cook          https://www.apple.com   AAPL   \n",
      "4       8.0       Karen S. Lynch      https://www.cvshealth.com    CVS   \n",
      "\n",
      "  Market Cap  \n",
      "0     411690  \n",
      "1    1637405  \n",
      "2     177923  \n",
      "3    2221176  \n",
      "4      98496  \n",
      "\n"
     ]
    }
   ],
   "source": [
    "\n",
    "# Convenience samples\n",
    "con_samples = data[0:5]\n",
    "print('Convenience samples:\\n\\n{}\\n'.format(con_samples))"
   ]
  },
  {
   "cell_type": "code",
   "execution_count": 32,
   "metadata": {},
   "outputs": [
    {
     "name": "stdout",
     "output_type": "stream",
     "text": [
      "Haphazard samples:\n",
      "\n",
      "[142422.0, 60113.9, 54213.0, 124813.0, 125843.0]\n",
      "\n"
     ]
    }
   ],
   "source": [
    "# Haphazard samples (Picking out some numbers)\n",
    "hap_samples = [data['revenue'][16], data['revenue'][55], data['revenue'][58], data['revenue'][21], data['revenue'][20]]\n",
    "print('Haphazard samples:\\n\\n{}\\n'.format(hap_samples))"
   ]
  },
  {
   "cell_type": "code",
   "execution_count": 35,
   "metadata": {},
   "outputs": [],
   "source": [
    "# # Take sample\n",
    "# sample1 = data['profit'].sample(100)\n",
    "\n",
    "#  Calculate Expected Value (EV), population mean and bias\n",
    "ev = sample1.mean()[0]\n",
    "pop_mean = data['profit'].mean()[0]\n",
    "bias = ev - pop_mean\n",
    "\n",
    "print('Sample mean (Expected Value): ', ev)\n",
    "print('Population mean: ', pop_mean)\n",
    "print('Bias: ', bias)"
   ]
  },
  {
   "cell_type": "code",
   "execution_count": 37,
   "metadata": {},
   "outputs": [
    {
     "data": {
      "text/plain": [
       "499    5655.0\n",
       "836    2703.8\n",
       "953    2156.2\n",
       "999    1990.3\n",
       "392    8107.0\n",
       "        ...  \n",
       "371    8510.4\n",
       "701    3464.3\n",
       "862    2578.0\n",
       "760    3107.3\n",
       "646    3964.0\n",
       "Name: revenue, Length: 100, dtype: float64"
      ]
     },
     "execution_count": 37,
     "metadata": {},
     "output_type": "execute_result"
    }
   ],
   "source": [
    "# Standard Error (SE)\n",
    "uni_sample = data['profit'].sample(100)\n",
    "norm_sample = data['revenue'].sample(100)\n",
    "\n",
    "norm_sample\n",
    "# The random samples from the normal distribution should have a higher standard error')"
   ]
  },
  {
   "cell_type": "code",
   "execution_count": null,
   "metadata": {},
   "outputs": [],
   "source": [
    "# Standard Error (SE)\n",
    "uni_sample = uniform_dist.sample(100)\n",
    "norm_sample = normal_dist.sample(100)\n",
    "\n",
    "print('Standard Error of uniform sample: ', sem(uni_sample))\n",
    "print('Standard Error of normal sample: ', sem(norm_sample))\n",
    "\n",
    "# The random samples from the normal distribution should have a higher standard error"
   ]
  },
  {
   "cell_type": "code",
   "execution_count": 38,
   "metadata": {},
   "outputs": [
    {
     "name": "stdout",
     "output_type": "stream",
     "text": [
      "Pearson: \n"
     ]
    },
    {
     "data": {
      "text/html": [
       "<div>\n",
       "<style scoped>\n",
       "    .dataframe tbody tr th:only-of-type {\n",
       "        vertical-align: middle;\n",
       "    }\n",
       "\n",
       "    .dataframe tbody tr th {\n",
       "        vertical-align: top;\n",
       "    }\n",
       "\n",
       "    .dataframe thead th {\n",
       "        text-align: right;\n",
       "    }\n",
       "</style>\n",
       "<table border=\"1\" class=\"dataframe\">\n",
       "  <thead>\n",
       "    <tr style=\"text-align: right;\">\n",
       "      <th></th>\n",
       "      <th>revenue</th>\n",
       "    </tr>\n",
       "  </thead>\n",
       "  <tbody>\n",
       "    <tr>\n",
       "      <th>revenue</th>\n",
       "      <td>1.0</td>\n",
       "    </tr>\n",
       "  </tbody>\n",
       "</table>\n",
       "</div>"
      ],
      "text/plain": [
       "         revenue\n",
       "revenue      1.0"
      ]
     },
     "execution_count": 38,
     "metadata": {},
     "output_type": "execute_result"
    }
   ],
   "source": [
    "# Correlation between two revenue and ceo_founder\n",
    "# Using Pearson's correlation\n",
    "print('Pearson: ')\n",
    "data[['ceo_founder', 'revenue']].corr(method='pearson')"
   ]
  },
  {
   "cell_type": "code",
   "execution_count": null,
   "metadata": {},
   "outputs": [],
   "source": [
    "# Plot data with Linear Regression\n",
    "plt.style.use('classic')\n",
    "plt.figure(figsize=(16,5))\n",
    "plt.title('Well fitted but not well fitting: Linear regression plot on quadratic data', fontsize='xx-large')\n",
    "sns.regplot(data['prev_rank'], data['profit']"
   ]
  }
 ],
 "metadata": {
  "kernelspec": {
   "display_name": "Python 3",
   "language": "python",
   "name": "python3"
  },
  "language_info": {
   "codemirror_mode": {
    "name": "ipython",
    "version": 3
   },
   "file_extension": ".py",
   "mimetype": "text/x-python",
   "name": "python",
   "nbconvert_exporter": "python",
   "pygments_lexer": "ipython3",
   "version": "3.7.4"
  }
 },
 "nbformat": 4,
 "nbformat_minor": 2
}
